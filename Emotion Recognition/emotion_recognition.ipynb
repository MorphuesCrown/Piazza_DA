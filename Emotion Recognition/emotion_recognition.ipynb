{
  "nbformat": 4,
  "nbformat_minor": 0,
  "metadata": {
    "colab": {
      "provenance": []
    },
    "kernelspec": {
      "name": "python3",
      "display_name": "Python 3"
    },
    "language_info": {
      "name": "python"
    }
  },
  "cells": [
    {
      "cell_type": "code",
      "execution_count": null,
      "metadata": {
        "id": "xHPBQWo99u0v"
      },
      "outputs": [],
      "source": [
        "! pip install transformers -q"
      ]
    },
    {
      "cell_type": "code",
      "source": [
        "from transformers import pipeline\n"
      ],
      "metadata": {
        "id": "RSgT6kyd9xLH"
      },
      "execution_count": null,
      "outputs": []
    },
    {
      "cell_type": "code",
      "source": [
        "emotion = pipeline('sentiment-analysis', model='arpanghoshal/EmoRoBERTa')"
      ],
      "metadata": {
        "colab": {
          "base_uri": "https://localhost:8080/"
        },
        "id": "6IhUT_2i949J",
        "outputId": "8bd94513-1a43-406c-a81a-b9c5554e2f10"
      },
      "execution_count": null,
      "outputs": [
        {
          "output_type": "stream",
          "name": "stderr",
          "text": [
            "All model checkpoint layers were used when initializing TFRobertaForSequenceClassification.\n",
            "\n",
            "All the layers of TFRobertaForSequenceClassification were initialized from the model checkpoint at arpanghoshal/EmoRoBERTa.\n",
            "If your task is similar to the task the model of the checkpoint was trained on, you can already use TFRobertaForSequenceClassification for predictions without further training.\n"
          ]
        }
      ]
    },
    {
      "cell_type": "code",
      "source": [
        "emotion_labels = emotion(\"I love messing with yo mind!!\")\n"
      ],
      "metadata": {
        "id": "N1s1v4Zg-IR8"
      },
      "execution_count": null,
      "outputs": []
    },
    {
      "cell_type": "code",
      "source": [
        "emotion_labels"
      ],
      "metadata": {
        "colab": {
          "base_uri": "https://localhost:8080/"
        },
        "id": "Kdpl4lmg-_v6",
        "outputId": "bc70b527-1fed-4868-d3fb-cd1cc22722fb"
      },
      "execution_count": null,
      "outputs": [
        {
          "output_type": "execute_result",
          "data": {
            "text/plain": [
              "[{'label': 'love', 'score': 0.7811968326568604}]"
            ]
          },
          "metadata": {},
          "execution_count": 16
        }
      ]
    },
    {
      "cell_type": "code",
      "source": [
        "emotion_labels[0]['label']"
      ],
      "metadata": {
        "colab": {
          "base_uri": "https://localhost:8080/",
          "height": 35
        },
        "id": "Hrv1TJmK-ZNo",
        "outputId": "058d8872-9a87-4853-8886-fffdf6aba5ae"
      },
      "execution_count": null,
      "outputs": [
        {
          "output_type": "execute_result",
          "data": {
            "text/plain": [
              "'love'"
            ],
            "application/vnd.google.colaboratory.intrinsic+json": {
              "type": "string"
            }
          },
          "metadata": {},
          "execution_count": 17
        }
      ]
    },
    {
      "cell_type": "code",
      "source": [
        "import pandas as pd"
      ],
      "metadata": {
        "id": "SwC8nqKx-aab"
      },
      "execution_count": null,
      "outputs": []
    },
    {
      "cell_type": "code",
      "source": [
        "large_text = pd.read_excel('CSCA08_Fall_2016.xlsx', sheet_name='Sheet')"
      ],
      "metadata": {
        "id": "LGdGk6cP_WNZ"
      },
      "execution_count": null,
      "outputs": []
    },
    {
      "cell_type": "code",
      "source": [
        "large_text.shape"
      ],
      "metadata": {
        "colab": {
          "base_uri": "https://localhost:8080/"
        },
        "id": "6cJl7F96_aVw",
        "outputId": "d34f026b-570e-4ceb-8fba-12df66bbc4fc"
      },
      "execution_count": null,
      "outputs": [
        {
          "output_type": "execute_result",
          "data": {
            "text/plain": [
              "(11876, 8)"
            ]
          },
          "metadata": {},
          "execution_count": 20
        }
      ]
    },
    {
      "cell_type": "code",
      "source": [
        "large_text.head()"
      ],
      "metadata": {
        "colab": {
          "base_uri": "https://localhost:8080/",
          "height": 206
        },
        "id": "zS_G-mqzFm8O",
        "outputId": "cac320c3-e5bc-4baa-b420-b54f5f3eb05e"
      },
      "execution_count": null,
      "outputs": [
        {
          "output_type": "execute_result",
          "data": {
            "text/plain": [
              "                                  title  \\\n",
              "0  Assignment 2 Special Re-Mark Request   \n",
              "1  Assignment 2 Special Re-Mark Request   \n",
              "2  Assignment 2 Special Re-Mark Request   \n",
              "3  Assignment 2 Special Re-Mark Request   \n",
              "4  Assignment 2 Special Re-Mark Request   \n",
              "\n",
              "                                             content          type  \\\n",
              "0  Assignment 2 Special Re-Mark RequestA lot of p...          post   \n",
              "1            Can we also add a line? or just replace      followup   \n",
              "2  Yes. If you want to insert a line after the 40...  sub_followup   \n",
              "3  Okay and if im in a function (so code is inden...  sub_followup   \n",
              "4  That looks right, just make sure you're using ...  sub_followup   \n",
              "\n",
              "                                      name                  datetime  \\\n",
              "0                         Brian Harrington  2016-12-13T15:49:11.000Z   \n",
              "1                             Dharmik Shah  2016-12-13T15:05:16.000Z   \n",
              "2                         Brian Harrington  2016-12-13T15:47:57.000Z   \n",
              "3  Dharmik Shah (Anon. Poet to classmates)  2016-12-13T15:56:52.000Z   \n",
              "4                         Brian Harrington  2016-12-13T18:40:59.000Z   \n",
              "\n",
              "  thread_id  views     directory  \n",
              "0     @2698    486  assignment_2  \n",
              "1  @2698_f1    486  assignment_2  \n",
              "2  @2698_f1    486  assignment_2  \n",
              "3  @2698_f1    486  assignment_2  \n",
              "4  @2698_f1    486  assignment_2  "
            ],
            "text/html": [
              "\n",
              "  <div id=\"df-3e6f6c23-5f19-4065-9954-6263fc4121ff\">\n",
              "    <div class=\"colab-df-container\">\n",
              "      <div>\n",
              "<style scoped>\n",
              "    .dataframe tbody tr th:only-of-type {\n",
              "        vertical-align: middle;\n",
              "    }\n",
              "\n",
              "    .dataframe tbody tr th {\n",
              "        vertical-align: top;\n",
              "    }\n",
              "\n",
              "    .dataframe thead th {\n",
              "        text-align: right;\n",
              "    }\n",
              "</style>\n",
              "<table border=\"1\" class=\"dataframe\">\n",
              "  <thead>\n",
              "    <tr style=\"text-align: right;\">\n",
              "      <th></th>\n",
              "      <th>title</th>\n",
              "      <th>content</th>\n",
              "      <th>type</th>\n",
              "      <th>name</th>\n",
              "      <th>datetime</th>\n",
              "      <th>thread_id</th>\n",
              "      <th>views</th>\n",
              "      <th>directory</th>\n",
              "    </tr>\n",
              "  </thead>\n",
              "  <tbody>\n",
              "    <tr>\n",
              "      <th>0</th>\n",
              "      <td>Assignment 2 Special Re-Mark Request</td>\n",
              "      <td>Assignment 2 Special Re-Mark RequestA lot of p...</td>\n",
              "      <td>post</td>\n",
              "      <td>Brian Harrington</td>\n",
              "      <td>2016-12-13T15:49:11.000Z</td>\n",
              "      <td>@2698</td>\n",
              "      <td>486</td>\n",
              "      <td>assignment_2</td>\n",
              "    </tr>\n",
              "    <tr>\n",
              "      <th>1</th>\n",
              "      <td>Assignment 2 Special Re-Mark Request</td>\n",
              "      <td>Can we also add a line? or just replace</td>\n",
              "      <td>followup</td>\n",
              "      <td>Dharmik Shah</td>\n",
              "      <td>2016-12-13T15:05:16.000Z</td>\n",
              "      <td>@2698_f1</td>\n",
              "      <td>486</td>\n",
              "      <td>assignment_2</td>\n",
              "    </tr>\n",
              "    <tr>\n",
              "      <th>2</th>\n",
              "      <td>Assignment 2 Special Re-Mark Request</td>\n",
              "      <td>Yes. If you want to insert a line after the 40...</td>\n",
              "      <td>sub_followup</td>\n",
              "      <td>Brian Harrington</td>\n",
              "      <td>2016-12-13T15:47:57.000Z</td>\n",
              "      <td>@2698_f1</td>\n",
              "      <td>486</td>\n",
              "      <td>assignment_2</td>\n",
              "    </tr>\n",
              "    <tr>\n",
              "      <th>3</th>\n",
              "      <td>Assignment 2 Special Re-Mark Request</td>\n",
              "      <td>Okay and if im in a function (so code is inden...</td>\n",
              "      <td>sub_followup</td>\n",
              "      <td>Dharmik Shah (Anon. Poet to classmates)</td>\n",
              "      <td>2016-12-13T15:56:52.000Z</td>\n",
              "      <td>@2698_f1</td>\n",
              "      <td>486</td>\n",
              "      <td>assignment_2</td>\n",
              "    </tr>\n",
              "    <tr>\n",
              "      <th>4</th>\n",
              "      <td>Assignment 2 Special Re-Mark Request</td>\n",
              "      <td>That looks right, just make sure you're using ...</td>\n",
              "      <td>sub_followup</td>\n",
              "      <td>Brian Harrington</td>\n",
              "      <td>2016-12-13T18:40:59.000Z</td>\n",
              "      <td>@2698_f1</td>\n",
              "      <td>486</td>\n",
              "      <td>assignment_2</td>\n",
              "    </tr>\n",
              "  </tbody>\n",
              "</table>\n",
              "</div>\n",
              "      <button class=\"colab-df-convert\" onclick=\"convertToInteractive('df-3e6f6c23-5f19-4065-9954-6263fc4121ff')\"\n",
              "              title=\"Convert this dataframe to an interactive table.\"\n",
              "              style=\"display:none;\">\n",
              "        \n",
              "  <svg xmlns=\"http://www.w3.org/2000/svg\" height=\"24px\"viewBox=\"0 0 24 24\"\n",
              "       width=\"24px\">\n",
              "    <path d=\"M0 0h24v24H0V0z\" fill=\"none\"/>\n",
              "    <path d=\"M18.56 5.44l.94 2.06.94-2.06 2.06-.94-2.06-.94-.94-2.06-.94 2.06-2.06.94zm-11 1L8.5 8.5l.94-2.06 2.06-.94-2.06-.94L8.5 2.5l-.94 2.06-2.06.94zm10 10l.94 2.06.94-2.06 2.06-.94-2.06-.94-.94-2.06-.94 2.06-2.06.94z\"/><path d=\"M17.41 7.96l-1.37-1.37c-.4-.4-.92-.59-1.43-.59-.52 0-1.04.2-1.43.59L10.3 9.45l-7.72 7.72c-.78.78-.78 2.05 0 2.83L4 21.41c.39.39.9.59 1.41.59.51 0 1.02-.2 1.41-.59l7.78-7.78 2.81-2.81c.8-.78.8-2.07 0-2.86zM5.41 20L4 18.59l7.72-7.72 1.47 1.35L5.41 20z\"/>\n",
              "  </svg>\n",
              "      </button>\n",
              "      \n",
              "  <style>\n",
              "    .colab-df-container {\n",
              "      display:flex;\n",
              "      flex-wrap:wrap;\n",
              "      gap: 12px;\n",
              "    }\n",
              "\n",
              "    .colab-df-convert {\n",
              "      background-color: #E8F0FE;\n",
              "      border: none;\n",
              "      border-radius: 50%;\n",
              "      cursor: pointer;\n",
              "      display: none;\n",
              "      fill: #1967D2;\n",
              "      height: 32px;\n",
              "      padding: 0 0 0 0;\n",
              "      width: 32px;\n",
              "    }\n",
              "\n",
              "    .colab-df-convert:hover {\n",
              "      background-color: #E2EBFA;\n",
              "      box-shadow: 0px 1px 2px rgba(60, 64, 67, 0.3), 0px 1px 3px 1px rgba(60, 64, 67, 0.15);\n",
              "      fill: #174EA6;\n",
              "    }\n",
              "\n",
              "    [theme=dark] .colab-df-convert {\n",
              "      background-color: #3B4455;\n",
              "      fill: #D2E3FC;\n",
              "    }\n",
              "\n",
              "    [theme=dark] .colab-df-convert:hover {\n",
              "      background-color: #434B5C;\n",
              "      box-shadow: 0px 1px 3px 1px rgba(0, 0, 0, 0.15);\n",
              "      filter: drop-shadow(0px 1px 2px rgba(0, 0, 0, 0.3));\n",
              "      fill: #FFFFFF;\n",
              "    }\n",
              "  </style>\n",
              "\n",
              "      <script>\n",
              "        const buttonEl =\n",
              "          document.querySelector('#df-3e6f6c23-5f19-4065-9954-6263fc4121ff button.colab-df-convert');\n",
              "        buttonEl.style.display =\n",
              "          google.colab.kernel.accessAllowed ? 'block' : 'none';\n",
              "\n",
              "        async function convertToInteractive(key) {\n",
              "          const element = document.querySelector('#df-3e6f6c23-5f19-4065-9954-6263fc4121ff');\n",
              "          const dataTable =\n",
              "            await google.colab.kernel.invokeFunction('convertToInteractive',\n",
              "                                                     [key], {});\n",
              "          if (!dataTable) return;\n",
              "\n",
              "          const docLinkHtml = 'Like what you see? Visit the ' +\n",
              "            '<a target=\"_blank\" href=https://colab.research.google.com/notebooks/data_table.ipynb>data table notebook</a>'\n",
              "            + ' to learn more about interactive tables.';\n",
              "          element.innerHTML = '';\n",
              "          dataTable['output_type'] = 'display_data';\n",
              "          await google.colab.output.renderOutput(dataTable, element);\n",
              "          const docLink = document.createElement('div');\n",
              "          docLink.innerHTML = docLinkHtml;\n",
              "          element.appendChild(docLink);\n",
              "        }\n",
              "      </script>\n",
              "    </div>\n",
              "  </div>\n",
              "  "
            ]
          },
          "metadata": {},
          "execution_count": 21
        }
      ]
    },
    {
      "cell_type": "code",
      "source": [
        "large_text['content'][1:10].apply(emotion)"
      ],
      "metadata": {
        "colab": {
          "base_uri": "https://localhost:8080/"
        },
        "id": "J10hrQbK_vO6",
        "outputId": "5f83f4b9-a307-49fa-c8f8-5e9ed9013651"
      },
      "execution_count": null,
      "outputs": [
        {
          "output_type": "execute_result",
          "data": {
            "text/plain": [
              "1    [{'label': 'curiosity', 'score': 0.94933122396...\n",
              "2    [{'label': 'neutral', 'score': 0.9846389889717...\n",
              "3    [{'label': 'approval', 'score': 0.599755287170...\n",
              "4    [{'label': 'approval', 'score': 0.861104846000...\n",
              "5    [{'label': 'neutral', 'score': 0.8391159176826...\n",
              "6    [{'label': 'approval', 'score': 0.948941290378...\n",
              "7    [{'label': 'curiosity', 'score': 0.50775474309...\n",
              "8    [{'label': 'neutral', 'score': 0.3761585950851...\n",
              "9    [{'label': 'curiosity', 'score': 0.87034374475...\n",
              "Name: content, dtype: object"
            ]
          },
          "metadata": {},
          "execution_count": 22
        }
      ]
    },
    {
      "cell_type": "code",
      "source": [
        "def get_emotion_label(text):\n",
        "  text = str(text)\n",
        "  return(emotion(text[:512] if len(text)>512 else text)[0]['label'])"
      ],
      "metadata": {
        "id": "BBi6bX4aAiZz"
      },
      "execution_count": null,
      "outputs": []
    },
    {
      "cell_type": "code",
      "source": [
        "get_emotion_label(\"from whatever is input to the function\")"
      ],
      "metadata": {
        "colab": {
          "base_uri": "https://localhost:8080/",
          "height": 35
        },
        "id": "0abMy4tAGZUi",
        "outputId": "4593fbb7-322d-4761-ca18-97984f45a350"
      },
      "execution_count": null,
      "outputs": [
        {
          "output_type": "execute_result",
          "data": {
            "text/plain": [
              "'neutral'"
            ],
            "application/vnd.google.colaboratory.intrinsic+json": {
              "type": "string"
            }
          },
          "metadata": {},
          "execution_count": 24
        }
      ]
    },
    {
      "cell_type": "code",
      "source": [
        "large_text['emotion'] = large_text['content'].apply(get_emotion_label)"
      ],
      "metadata": {
        "id": "vfQpWU1o_ZuC"
      },
      "execution_count": null,
      "outputs": []
    },
    {
      "cell_type": "code",
      "source": [
        "large_text"
      ],
      "metadata": {
        "colab": {
          "base_uri": "https://localhost:8080/",
          "height": 424
        },
        "id": "GYIuAYU_Gz4c",
        "outputId": "7d212fc9-b662-4040-8c1b-dbe640763568"
      },
      "execution_count": null,
      "outputs": [
        {
          "output_type": "execute_result",
          "data": {
            "text/plain": [
              "                                      title  \\\n",
              "0      Assignment 2 Special Re-Mark Request   \n",
              "1      Assignment 2 Special Re-Mark Request   \n",
              "2      Assignment 2 Special Re-Mark Request   \n",
              "3      Assignment 2 Special Re-Mark Request   \n",
              "4      Assignment 2 Special Re-Mark Request   \n",
              "...                                     ...   \n",
              "11871                     Welcome to CSCA08   \n",
              "11872              Get familiar with Piazza   \n",
              "11873     Introduce Piazza to your students   \n",
              "11874                    Welcome to Piazza!   \n",
              "11875  Tips & Tricks for a successful class   \n",
              "\n",
              "                                                 content          type  \\\n",
              "0      Assignment 2 Special Re-Mark RequestA lot of p...          post   \n",
              "1                Can we also add a line? or just replace      followup   \n",
              "2      Yes. If you want to insert a line after the 40...  sub_followup   \n",
              "3      Okay and if im in a function (so code is inden...  sub_followup   \n",
              "4      That looks right, just make sure you're using ...  sub_followup   \n",
              "...                                                  ...           ...   \n",
              "11871  Welcome to CSCA08Glad to see you've found Piaz...          post   \n",
              "11872  Get familiar with PiazzaPiazza FeaturesClick t...          post   \n",
              "11873  Introduce Piazza to your studentsPost a Welcom...          post   \n",
              "11874  Welcome to Piazza!Piazza is a Q&A platform des...          post   \n",
              "11875  Tips & Tricks for a successful classReduce inb...          post   \n",
              "\n",
              "                                          name                  datetime  \\\n",
              "0                             Brian Harrington  2016-12-13T15:49:11.000Z   \n",
              "1                                 Dharmik Shah  2016-12-13T15:05:16.000Z   \n",
              "2                             Brian Harrington  2016-12-13T15:47:57.000Z   \n",
              "3      Dharmik Shah (Anon. Poet to classmates)  2016-12-13T15:56:52.000Z   \n",
              "4                             Brian Harrington  2016-12-13T18:40:59.000Z   \n",
              "...                                        ...                       ...   \n",
              "11871                         Brian Harrington  2016-09-01T01:41:08.000Z   \n",
              "11872                              Piazza Team  2016-09-01T01:38:41.000Z   \n",
              "11873                              Piazza Team  2016-09-01T01:38:41.000Z   \n",
              "11874                              Piazza Team  2016-09-01T01:38:40.000Z   \n",
              "11875                              Piazza Team  2016-09-01T01:38:40.000Z   \n",
              "\n",
              "      thread_id  views     directory    emotion  \n",
              "0         @2698    486  assignment_2   approval  \n",
              "1      @2698_f1    486  assignment_2  curiosity  \n",
              "2      @2698_f1    486  assignment_2    neutral  \n",
              "3      @2698_f1    486  assignment_2   approval  \n",
              "4      @2698_f1    486  assignment_2   approval  \n",
              "...         ...    ...           ...        ...  \n",
              "11871        @6    346         other  gratitude  \n",
              "11872        @3     17           NaN    neutral  \n",
              "11873        @4     20           NaN  gratitude  \n",
              "11874        @1    287           NaN    neutral  \n",
              "11875        @2     17           NaN    neutral  \n",
              "\n",
              "[11876 rows x 9 columns]"
            ],
            "text/html": [
              "\n",
              "  <div id=\"df-1be33482-4393-4090-9ca7-a68a9c30317f\">\n",
              "    <div class=\"colab-df-container\">\n",
              "      <div>\n",
              "<style scoped>\n",
              "    .dataframe tbody tr th:only-of-type {\n",
              "        vertical-align: middle;\n",
              "    }\n",
              "\n",
              "    .dataframe tbody tr th {\n",
              "        vertical-align: top;\n",
              "    }\n",
              "\n",
              "    .dataframe thead th {\n",
              "        text-align: right;\n",
              "    }\n",
              "</style>\n",
              "<table border=\"1\" class=\"dataframe\">\n",
              "  <thead>\n",
              "    <tr style=\"text-align: right;\">\n",
              "      <th></th>\n",
              "      <th>title</th>\n",
              "      <th>content</th>\n",
              "      <th>type</th>\n",
              "      <th>name</th>\n",
              "      <th>datetime</th>\n",
              "      <th>thread_id</th>\n",
              "      <th>views</th>\n",
              "      <th>directory</th>\n",
              "      <th>emotion</th>\n",
              "    </tr>\n",
              "  </thead>\n",
              "  <tbody>\n",
              "    <tr>\n",
              "      <th>0</th>\n",
              "      <td>Assignment 2 Special Re-Mark Request</td>\n",
              "      <td>Assignment 2 Special Re-Mark RequestA lot of p...</td>\n",
              "      <td>post</td>\n",
              "      <td>Brian Harrington</td>\n",
              "      <td>2016-12-13T15:49:11.000Z</td>\n",
              "      <td>@2698</td>\n",
              "      <td>486</td>\n",
              "      <td>assignment_2</td>\n",
              "      <td>approval</td>\n",
              "    </tr>\n",
              "    <tr>\n",
              "      <th>1</th>\n",
              "      <td>Assignment 2 Special Re-Mark Request</td>\n",
              "      <td>Can we also add a line? or just replace</td>\n",
              "      <td>followup</td>\n",
              "      <td>Dharmik Shah</td>\n",
              "      <td>2016-12-13T15:05:16.000Z</td>\n",
              "      <td>@2698_f1</td>\n",
              "      <td>486</td>\n",
              "      <td>assignment_2</td>\n",
              "      <td>curiosity</td>\n",
              "    </tr>\n",
              "    <tr>\n",
              "      <th>2</th>\n",
              "      <td>Assignment 2 Special Re-Mark Request</td>\n",
              "      <td>Yes. If you want to insert a line after the 40...</td>\n",
              "      <td>sub_followup</td>\n",
              "      <td>Brian Harrington</td>\n",
              "      <td>2016-12-13T15:47:57.000Z</td>\n",
              "      <td>@2698_f1</td>\n",
              "      <td>486</td>\n",
              "      <td>assignment_2</td>\n",
              "      <td>neutral</td>\n",
              "    </tr>\n",
              "    <tr>\n",
              "      <th>3</th>\n",
              "      <td>Assignment 2 Special Re-Mark Request</td>\n",
              "      <td>Okay and if im in a function (so code is inden...</td>\n",
              "      <td>sub_followup</td>\n",
              "      <td>Dharmik Shah (Anon. Poet to classmates)</td>\n",
              "      <td>2016-12-13T15:56:52.000Z</td>\n",
              "      <td>@2698_f1</td>\n",
              "      <td>486</td>\n",
              "      <td>assignment_2</td>\n",
              "      <td>approval</td>\n",
              "    </tr>\n",
              "    <tr>\n",
              "      <th>4</th>\n",
              "      <td>Assignment 2 Special Re-Mark Request</td>\n",
              "      <td>That looks right, just make sure you're using ...</td>\n",
              "      <td>sub_followup</td>\n",
              "      <td>Brian Harrington</td>\n",
              "      <td>2016-12-13T18:40:59.000Z</td>\n",
              "      <td>@2698_f1</td>\n",
              "      <td>486</td>\n",
              "      <td>assignment_2</td>\n",
              "      <td>approval</td>\n",
              "    </tr>\n",
              "    <tr>\n",
              "      <th>...</th>\n",
              "      <td>...</td>\n",
              "      <td>...</td>\n",
              "      <td>...</td>\n",
              "      <td>...</td>\n",
              "      <td>...</td>\n",
              "      <td>...</td>\n",
              "      <td>...</td>\n",
              "      <td>...</td>\n",
              "      <td>...</td>\n",
              "    </tr>\n",
              "    <tr>\n",
              "      <th>11871</th>\n",
              "      <td>Welcome to CSCA08</td>\n",
              "      <td>Welcome to CSCA08Glad to see you've found Piaz...</td>\n",
              "      <td>post</td>\n",
              "      <td>Brian Harrington</td>\n",
              "      <td>2016-09-01T01:41:08.000Z</td>\n",
              "      <td>@6</td>\n",
              "      <td>346</td>\n",
              "      <td>other</td>\n",
              "      <td>gratitude</td>\n",
              "    </tr>\n",
              "    <tr>\n",
              "      <th>11872</th>\n",
              "      <td>Get familiar with Piazza</td>\n",
              "      <td>Get familiar with PiazzaPiazza FeaturesClick t...</td>\n",
              "      <td>post</td>\n",
              "      <td>Piazza Team</td>\n",
              "      <td>2016-09-01T01:38:41.000Z</td>\n",
              "      <td>@3</td>\n",
              "      <td>17</td>\n",
              "      <td>NaN</td>\n",
              "      <td>neutral</td>\n",
              "    </tr>\n",
              "    <tr>\n",
              "      <th>11873</th>\n",
              "      <td>Introduce Piazza to your students</td>\n",
              "      <td>Introduce Piazza to your studentsPost a Welcom...</td>\n",
              "      <td>post</td>\n",
              "      <td>Piazza Team</td>\n",
              "      <td>2016-09-01T01:38:41.000Z</td>\n",
              "      <td>@4</td>\n",
              "      <td>20</td>\n",
              "      <td>NaN</td>\n",
              "      <td>gratitude</td>\n",
              "    </tr>\n",
              "    <tr>\n",
              "      <th>11874</th>\n",
              "      <td>Welcome to Piazza!</td>\n",
              "      <td>Welcome to Piazza!Piazza is a Q&amp;A platform des...</td>\n",
              "      <td>post</td>\n",
              "      <td>Piazza Team</td>\n",
              "      <td>2016-09-01T01:38:40.000Z</td>\n",
              "      <td>@1</td>\n",
              "      <td>287</td>\n",
              "      <td>NaN</td>\n",
              "      <td>neutral</td>\n",
              "    </tr>\n",
              "    <tr>\n",
              "      <th>11875</th>\n",
              "      <td>Tips &amp; Tricks for a successful class</td>\n",
              "      <td>Tips &amp; Tricks for a successful classReduce inb...</td>\n",
              "      <td>post</td>\n",
              "      <td>Piazza Team</td>\n",
              "      <td>2016-09-01T01:38:40.000Z</td>\n",
              "      <td>@2</td>\n",
              "      <td>17</td>\n",
              "      <td>NaN</td>\n",
              "      <td>neutral</td>\n",
              "    </tr>\n",
              "  </tbody>\n",
              "</table>\n",
              "<p>11876 rows × 9 columns</p>\n",
              "</div>\n",
              "      <button class=\"colab-df-convert\" onclick=\"convertToInteractive('df-1be33482-4393-4090-9ca7-a68a9c30317f')\"\n",
              "              title=\"Convert this dataframe to an interactive table.\"\n",
              "              style=\"display:none;\">\n",
              "        \n",
              "  <svg xmlns=\"http://www.w3.org/2000/svg\" height=\"24px\"viewBox=\"0 0 24 24\"\n",
              "       width=\"24px\">\n",
              "    <path d=\"M0 0h24v24H0V0z\" fill=\"none\"/>\n",
              "    <path d=\"M18.56 5.44l.94 2.06.94-2.06 2.06-.94-2.06-.94-.94-2.06-.94 2.06-2.06.94zm-11 1L8.5 8.5l.94-2.06 2.06-.94-2.06-.94L8.5 2.5l-.94 2.06-2.06.94zm10 10l.94 2.06.94-2.06 2.06-.94-2.06-.94-.94-2.06-.94 2.06-2.06.94z\"/><path d=\"M17.41 7.96l-1.37-1.37c-.4-.4-.92-.59-1.43-.59-.52 0-1.04.2-1.43.59L10.3 9.45l-7.72 7.72c-.78.78-.78 2.05 0 2.83L4 21.41c.39.39.9.59 1.41.59.51 0 1.02-.2 1.41-.59l7.78-7.78 2.81-2.81c.8-.78.8-2.07 0-2.86zM5.41 20L4 18.59l7.72-7.72 1.47 1.35L5.41 20z\"/>\n",
              "  </svg>\n",
              "      </button>\n",
              "      \n",
              "  <style>\n",
              "    .colab-df-container {\n",
              "      display:flex;\n",
              "      flex-wrap:wrap;\n",
              "      gap: 12px;\n",
              "    }\n",
              "\n",
              "    .colab-df-convert {\n",
              "      background-color: #E8F0FE;\n",
              "      border: none;\n",
              "      border-radius: 50%;\n",
              "      cursor: pointer;\n",
              "      display: none;\n",
              "      fill: #1967D2;\n",
              "      height: 32px;\n",
              "      padding: 0 0 0 0;\n",
              "      width: 32px;\n",
              "    }\n",
              "\n",
              "    .colab-df-convert:hover {\n",
              "      background-color: #E2EBFA;\n",
              "      box-shadow: 0px 1px 2px rgba(60, 64, 67, 0.3), 0px 1px 3px 1px rgba(60, 64, 67, 0.15);\n",
              "      fill: #174EA6;\n",
              "    }\n",
              "\n",
              "    [theme=dark] .colab-df-convert {\n",
              "      background-color: #3B4455;\n",
              "      fill: #D2E3FC;\n",
              "    }\n",
              "\n",
              "    [theme=dark] .colab-df-convert:hover {\n",
              "      background-color: #434B5C;\n",
              "      box-shadow: 0px 1px 3px 1px rgba(0, 0, 0, 0.15);\n",
              "      filter: drop-shadow(0px 1px 2px rgba(0, 0, 0, 0.3));\n",
              "      fill: #FFFFFF;\n",
              "    }\n",
              "  </style>\n",
              "\n",
              "      <script>\n",
              "        const buttonEl =\n",
              "          document.querySelector('#df-1be33482-4393-4090-9ca7-a68a9c30317f button.colab-df-convert');\n",
              "        buttonEl.style.display =\n",
              "          google.colab.kernel.accessAllowed ? 'block' : 'none';\n",
              "\n",
              "        async function convertToInteractive(key) {\n",
              "          const element = document.querySelector('#df-1be33482-4393-4090-9ca7-a68a9c30317f');\n",
              "          const dataTable =\n",
              "            await google.colab.kernel.invokeFunction('convertToInteractive',\n",
              "                                                     [key], {});\n",
              "          if (!dataTable) return;\n",
              "\n",
              "          const docLinkHtml = 'Like what you see? Visit the ' +\n",
              "            '<a target=\"_blank\" href=https://colab.research.google.com/notebooks/data_table.ipynb>data table notebook</a>'\n",
              "            + ' to learn more about interactive tables.';\n",
              "          element.innerHTML = '';\n",
              "          dataTable['output_type'] = 'display_data';\n",
              "          await google.colab.output.renderOutput(dataTable, element);\n",
              "          const docLink = document.createElement('div');\n",
              "          docLink.innerHTML = docLinkHtml;\n",
              "          element.appendChild(docLink);\n",
              "        }\n",
              "      </script>\n",
              "    </div>\n",
              "  </div>\n",
              "  "
            ]
          },
          "metadata": {},
          "execution_count": 27
        }
      ]
    },
    {
      "cell_type": "markdown",
      "source": [
        "Save the result"
      ],
      "metadata": {
        "id": "2dKqKwhSMBG6"
      }
    },
    {
      "cell_type": "code",
      "source": [
        "large_text.to_excel(\"posts_with_emotion.xlsx\")"
      ],
      "metadata": {
        "id": "vvygYH4nOBGI"
      },
      "execution_count": null,
      "outputs": []
    },
    {
      "cell_type": "markdown",
      "source": [
        "Visualize number of different emotion posts"
      ],
      "metadata": {
        "id": "jsA7EFgBMDzj"
      }
    },
    {
      "cell_type": "code",
      "source": [
        "import seaborn as sns"
      ],
      "metadata": {
        "id": "dXJ8OYI1Av3P"
      },
      "execution_count": null,
      "outputs": []
    },
    {
      "cell_type": "code",
      "source": [
        "sns.countplot(data = large_text, y = 'emotion').set_title(\"Emotion Distribution\")"
      ],
      "metadata": {
        "colab": {
          "base_uri": "https://localhost:8080/",
          "height": 313
        },
        "id": "9HZPzcDNBFv-",
        "outputId": "ea0e1941-f9ca-4c47-c21d-6181092a4ace"
      },
      "execution_count": null,
      "outputs": [
        {
          "output_type": "execute_result",
          "data": {
            "text/plain": [
              "Text(0.5, 1.0, 'Emotion Distribution')"
            ]
          },
          "metadata": {},
          "execution_count": 30
        },
        {
          "output_type": "display_data",
          "data": {
            "text/plain": [
              "<Figure size 432x288 with 1 Axes>"
            ],
            "image/png": "[encoded data removed]"
          },
          "metadata": {
            "needs_background": "light"
          }
        }
      ]
    },
    {
      "cell_type": "code",
      "source": [],
      "metadata": {
        "id": "VU3SNoffBNyE"
      },
      "execution_count": null,
      "outputs": []
    }
  ]
}