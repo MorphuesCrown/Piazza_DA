{
  "nbformat": 4,
  "nbformat_minor": 0,
  "metadata": {
    "colab": {
      "provenance": []
    },
    "kernelspec": {
      "name": "python3",
      "display_name": "Python 3"
    },
    "language_info": {
      "name": "python"
    }
  },
  "cells": [
    {
      "cell_type": "code",
      "source": [
        "import pandas as pd"
      ],
      "metadata": {
        "id": "tKtVyC6l-Jum"
      },
      "execution_count": null,
      "outputs": []
    },
    {
      "cell_type": "code",
      "source": [
        "train = pd.read_excel('text_emotion.xlsx', sheet_name='text_emotion')\n",
        "test = pd.read_excel('CSCA08_Fall_2016.xlsx', sheet_name='Sheet')"
      ],
      "metadata": {
        "id": "tDjokpZB-chu"
      },
      "execution_count": null,
      "outputs": []
    },
    {
      "cell_type": "code",
      "execution_count": null,
      "metadata": {
        "id": "B-eLttfXAiFK"
      },
      "outputs": [],
      "source": [
        "from sklearn.feature_extraction.text import TfidfVectorizer\n",
        "from sklearn.naive_bayes import MultinomialNB\n",
        "from sklearn.pipeline import make_pipeline\n",
        "\n",
        "model = make_pipeline(TfidfVectorizer(), MultinomialNB())\n"
      ]
    },
    {
      "cell_type": "code",
      "source": [
        "model.fit([str(t) for t in train['content']], train['sentiment'])"
      ],
      "metadata": {
        "colab": {
          "base_uri": "https://localhost:8080/"
        },
        "id": "Lv0QI2ca-5-F",
        "outputId": "75de31fd-d739-442f-8056-40f081981568"
      },
      "execution_count": null,
      "outputs": [
        {
          "output_type": "execute_result",
          "data": {
            "text/plain": [
              "Pipeline(steps=[('tfidfvectorizer', TfidfVectorizer()),\n",
              "                ('multinomialnb', MultinomialNB())])"
            ]
          },
          "metadata": {},
          "execution_count": 13
        }
      ]
    },
    {
      "cell_type": "code",
      "source": [
        "labels = model.predict([str(t) for t in test['content']])"
      ],
      "metadata": {
        "id": "aLxIpOpI_MUk"
      },
      "execution_count": null,
      "outputs": []
    },
    {
      "cell_type": "code",
      "source": [
        "test['sentiment'] = labels"
      ],
      "metadata": {
        "id": "DHV3PIaRAMVg"
      },
      "execution_count": null,
      "outputs": []
    },
    {
      "cell_type": "code",
      "source": [
        "test.to_excel(\"posts_with_sentiment_nb.xlsx\")"
      ],
      "metadata": {
        "id": "5bNb6rPAAlm0"
      },
      "execution_count": null,
      "outputs": []
    },
    {
      "cell_type": "code",
      "source": [
        "import seaborn as sns"
      ],
      "metadata": {
        "id": "bl4tTYtVAuXW"
      },
      "execution_count": null,
      "outputs": []
    },
    {
      "cell_type": "code",
      "source": [
        "sns.countplot(data = test, y = 'sentiment').set_title(\"Sentiment Distribution\")"
      ],
      "metadata": {
        "colab": {
          "base_uri": "https://localhost:8080/",
          "height": 313
        },
        "id": "7xHHFJDxAuZ6",
        "outputId": "c490a386-5934-4236-e378-283f409ce0d0"
      },
      "execution_count": null,
      "outputs": [
        {
          "output_type": "execute_result",
          "data": {
            "text/plain": [
              "Text(0.5, 1.0, 'Sentiment Distribution')"
            ]
          },
          "metadata": {},
          "execution_count": 23
        },
        {
          "output_type": "display_data",
          "data": {
            "text/plain": [
              "<Figure size 432x288 with 1 Axes>"
            ],
            "image/png": "[encoded data removed]"
          },
          "metadata": {
            "needs_background": "light"
          }
        }
      ]
    },
    {
      "cell_type": "code",
      "source": [
        "def get_stress(sentiment):\n",
        "  return 'stressed' if sentiment == 'worry' or sentiment == 'sadness' else 'not stressed'"
      ],
      "metadata": {
        "id": "-17PkZ-NMfvy"
      },
      "execution_count": 26,
      "outputs": []
    },
    {
      "cell_type": "code",
      "source": [
        "print(test['sentiment'][10])\n",
        "get_stress(test['sentiment'][10])"
      ],
      "metadata": {
        "colab": {
          "base_uri": "https://localhost:8080/",
          "height": 53
        },
        "id": "vNoLxSKONKkq",
        "outputId": "df174206-fecc-42b6-d405-6823ad2acbde"
      },
      "execution_count": 29,
      "outputs": [
        {
          "output_type": "stream",
          "name": "stdout",
          "text": [
            "worry\n"
          ]
        },
        {
          "output_type": "execute_result",
          "data": {
            "text/plain": [
              "'stressed'"
            ],
            "application/vnd.google.colaboratory.intrinsic+json": {
              "type": "string"
            }
          },
          "metadata": {},
          "execution_count": 29
        }
      ]
    },
    {
      "cell_type": "code",
      "source": [
        "test['stress_level'] = test['sentiment'].apply(get_stress)"
      ],
      "metadata": {
        "id": "474R3AiCA8iL"
      },
      "execution_count": 30,
      "outputs": []
    },
    {
      "cell_type": "code",
      "source": [
        "import datetime"
      ],
      "metadata": {
        "id": "i8tbmX2Njud3"
      },
      "execution_count": 50,
      "outputs": []
    },
    {
      "cell_type": "code",
      "source": [
        "date = test['datetime'].iloc[-1].split('T')[0].split('-')\n",
        "start_week = datetime.datetime(int(date[0]), int(date[1]), int(date[2])).isocalendar()[1]\n",
        "\n",
        "def get_week(date):\n",
        "  date = date.split('T')[0].split('-')\n",
        "  return datetime.datetime(int(date[0]), int(date[1]), int(date[2])).isocalendar()[1] - start_week + 1"
      ],
      "metadata": {
        "id": "EQMrpY8rNuMM"
      },
      "execution_count": 59,
      "outputs": []
    },
    {
      "cell_type": "code",
      "source": [
        "test['week'] = test['datetime'].apply(get_week)\n",
        "test"
      ],
      "metadata": {
        "colab": {
          "base_uri": "https://localhost:8080/",
          "height": 1000
        },
        "id": "R8Sen4fwpnjO",
        "outputId": "47315a85-a02f-46b4-83d8-c41b857f9363"
      },
      "execution_count": 60,
      "outputs": [
        {
          "output_type": "execute_result",
          "data": {
            "text/plain": [
              "                                      title  \\\n",
              "0      Assignment 2 Special Re-Mark Request   \n",
              "1      Assignment 2 Special Re-Mark Request   \n",
              "2      Assignment 2 Special Re-Mark Request   \n",
              "3      Assignment 2 Special Re-Mark Request   \n",
              "4      Assignment 2 Special Re-Mark Request   \n",
              "...                                     ...   \n",
              "11871                     Welcome to CSCA08   \n",
              "11872              Get familiar with Piazza   \n",
              "11873     Introduce Piazza to your students   \n",
              "11874                    Welcome to Piazza!   \n",
              "11875  Tips & Tricks for a successful class   \n",
              "\n",
              "                                                 content          type  \\\n",
              "0      Assignment 2 Special Re-Mark RequestA lot of p...          post   \n",
              "1                Can we also add a line? or just replace      followup   \n",
              "2      Yes. If you want to insert a line after the 40...  sub_followup   \n",
              "3      Okay and if im in a function (so code is inden...  sub_followup   \n",
              "4      That looks right, just make sure you're using ...  sub_followup   \n",
              "...                                                  ...           ...   \n",
              "11871  Welcome to CSCA08Glad to see you've found Piaz...          post   \n",
              "11872  Get familiar with PiazzaPiazza FeaturesClick t...          post   \n",
              "11873  Introduce Piazza to your studentsPost a Welcom...          post   \n",
              "11874  Welcome to Piazza!Piazza is a Q&A platform des...          post   \n",
              "11875  Tips & Tricks for a successful classReduce inb...          post   \n",
              "\n",
              "                                          name                  datetime  \\\n",
              "0                             Brian Harrington  2016-12-13T15:49:11.000Z   \n",
              "1                                 Dharmik Shah  2016-12-13T15:05:16.000Z   \n",
              "2                             Brian Harrington  2016-12-13T15:47:57.000Z   \n",
              "3      Dharmik Shah (Anon. Poet to classmates)  2016-12-13T15:56:52.000Z   \n",
              "4                             Brian Harrington  2016-12-13T18:40:59.000Z   \n",
              "...                                        ...                       ...   \n",
              "11871                         Brian Harrington  2016-09-01T01:41:08.000Z   \n",
              "11872                              Piazza Team  2016-09-01T01:38:41.000Z   \n",
              "11873                              Piazza Team  2016-09-01T01:38:41.000Z   \n",
              "11874                              Piazza Team  2016-09-01T01:38:40.000Z   \n",
              "11875                              Piazza Team  2016-09-01T01:38:40.000Z   \n",
              "\n",
              "      thread_id  views     directory sentiment  stress_level  week  \n",
              "0         @2698    486  assignment_2     worry      stressed    16  \n",
              "1      @2698_f1    486  assignment_2   neutral  not stressed    16  \n",
              "2      @2698_f1    486  assignment_2   neutral  not stressed    16  \n",
              "3      @2698_f1    486  assignment_2     worry      stressed    16  \n",
              "4      @2698_f1    486  assignment_2   neutral  not stressed    16  \n",
              "...         ...    ...           ...       ...           ...   ...  \n",
              "11871        @6    346         other     worry      stressed     1  \n",
              "11872        @3     17           NaN   neutral  not stressed     1  \n",
              "11873        @4     20           NaN   neutral  not stressed     1  \n",
              "11874        @1    287           NaN   neutral  not stressed     1  \n",
              "11875        @2     17           NaN     worry      stressed     1  \n",
              "\n",
              "[11876 rows x 11 columns]"
            ],
            "text/html": [
              "\n",
              "  <div id=\"df-4bd8c5c8-11d5-41d4-9001-1a037c690011\">\n",
              "    <div class=\"colab-df-container\">\n",
              "      <div>\n",
              "<style scoped>\n",
              "    .dataframe tbody tr th:only-of-type {\n",
              "        vertical-align: middle;\n",
              "    }\n",
              "\n",
              "    .dataframe tbody tr th {\n",
              "        vertical-align: top;\n",
              "    }\n",
              "\n",
              "    .dataframe thead th {\n",
              "        text-align: right;\n",
              "    }\n",
              "</style>\n",
              "<table border=\"1\" class=\"dataframe\">\n",
              "  <thead>\n",
              "    <tr style=\"text-align: right;\">\n",
              "      <th></th>\n",
              "      <th>title</th>\n",
              "      <th>content</th>\n",
              "      <th>type</th>\n",
              "      <th>name</th>\n",
              "      <th>datetime</th>\n",
              "      <th>thread_id</th>\n",
              "      <th>views</th>\n",
              "      <th>directory</th>\n",
              "      <th>sentiment</th>\n",
              "      <th>stress_level</th>\n",
              "      <th>week</th>\n",
              "    </tr>\n",
              "  </thead>\n",
              "  <tbody>\n",
              "    <tr>\n",
              "      <th>0</th>\n",
              "      <td>Assignment 2 Special Re-Mark Request</td>\n",
              "      <td>Assignment 2 Special Re-Mark RequestA lot of p...</td>\n",
              "      <td>post</td>\n",
              "      <td>Brian Harrington</td>\n",
              "      <td>2016-12-13T15:49:11.000Z</td>\n",
              "      <td>@2698</td>\n",
              "      <td>486</td>\n",
              "      <td>assignment_2</td>\n",
              "      <td>worry</td>\n",
              "      <td>stressed</td>\n",
              "      <td>16</td>\n",
              "    </tr>\n",
              "    <tr>\n",
              "      <th>1</th>\n",
              "      <td>Assignment 2 Special Re-Mark Request</td>\n",
              "      <td>Can we also add a line? or just replace</td>\n",
              "      <td>followup</td>\n",
              "      <td>Dharmik Shah</td>\n",
              "      <td>2016-12-13T15:05:16.000Z</td>\n",
              "      <td>@2698_f1</td>\n",
              "      <td>486</td>\n",
              "      <td>assignment_2</td>\n",
              "      <td>neutral</td>\n",
              "      <td>not stressed</td>\n",
              "      <td>16</td>\n",
              "    </tr>\n",
              "    <tr>\n",
              "      <th>2</th>\n",
              "      <td>Assignment 2 Special Re-Mark Request</td>\n",
              "      <td>Yes. If you want to insert a line after the 40...</td>\n",
              "      <td>sub_followup</td>\n",
              "      <td>Brian Harrington</td>\n",
              "      <td>2016-12-13T15:47:57.000Z</td>\n",
              "      <td>@2698_f1</td>\n",
              "      <td>486</td>\n",
              "      <td>assignment_2</td>\n",
              "      <td>neutral</td>\n",
              "      <td>not stressed</td>\n",
              "      <td>16</td>\n",
              "    </tr>\n",
              "    <tr>\n",
              "      <th>3</th>\n",
              "      <td>Assignment 2 Special Re-Mark Request</td>\n",
              "      <td>Okay and if im in a function (so code is inden...</td>\n",
              "      <td>sub_followup</td>\n",
              "      <td>Dharmik Shah (Anon. Poet to classmates)</td>\n",
              "      <td>2016-12-13T15:56:52.000Z</td>\n",
              "      <td>@2698_f1</td>\n",
              "      <td>486</td>\n",
              "      <td>assignment_2</td>\n",
              "      <td>worry</td>\n",
              "      <td>stressed</td>\n",
              "      <td>16</td>\n",
              "    </tr>\n",
              "    <tr>\n",
              "      <th>4</th>\n",
              "      <td>Assignment 2 Special Re-Mark Request</td>\n",
              "      <td>That looks right, just make sure you're using ...</td>\n",
              "      <td>sub_followup</td>\n",
              "      <td>Brian Harrington</td>\n",
              "      <td>2016-12-13T18:40:59.000Z</td>\n",
              "      <td>@2698_f1</td>\n",
              "      <td>486</td>\n",
              "      <td>assignment_2</td>\n",
              "      <td>neutral</td>\n",
              "      <td>not stressed</td>\n",
              "      <td>16</td>\n",
              "    </tr>\n",
              "    <tr>\n",
              "      <th>...</th>\n",
              "      <td>...</td>\n",
              "      <td>...</td>\n",
              "      <td>...</td>\n",
              "      <td>...</td>\n",
              "      <td>...</td>\n",
              "      <td>...</td>\n",
              "      <td>...</td>\n",
              "      <td>...</td>\n",
              "      <td>...</td>\n",
              "      <td>...</td>\n",
              "      <td>...</td>\n",
              "    </tr>\n",
              "    <tr>\n",
              "      <th>11871</th>\n",
              "      <td>Welcome to CSCA08</td>\n",
              "      <td>Welcome to CSCA08Glad to see you've found Piaz...</td>\n",
              "      <td>post</td>\n",
              "      <td>Brian Harrington</td>\n",
              "      <td>2016-09-01T01:41:08.000Z</td>\n",
              "      <td>@6</td>\n",
              "      <td>346</td>\n",
              "      <td>other</td>\n",
              "      <td>worry</td>\n",
              "      <td>stressed</td>\n",
              "      <td>1</td>\n",
              "    </tr>\n",
              "    <tr>\n",
              "      <th>11872</th>\n",
              "      <td>Get familiar with Piazza</td>\n",
              "      <td>Get familiar with PiazzaPiazza FeaturesClick t...</td>\n",
              "      <td>post</td>\n",
              "      <td>Piazza Team</td>\n",
              "      <td>2016-09-01T01:38:41.000Z</td>\n",
              "      <td>@3</td>\n",
              "      <td>17</td>\n",
              "      <td>NaN</td>\n",
              "      <td>neutral</td>\n",
              "      <td>not stressed</td>\n",
              "      <td>1</td>\n",
              "    </tr>\n",
              "    <tr>\n",
              "      <th>11873</th>\n",
              "      <td>Introduce Piazza to your students</td>\n",
              "      <td>Introduce Piazza to your studentsPost a Welcom...</td>\n",
              "      <td>post</td>\n",
              "      <td>Piazza Team</td>\n",
              "      <td>2016-09-01T01:38:41.000Z</td>\n",
              "      <td>@4</td>\n",
              "      <td>20</td>\n",
              "      <td>NaN</td>\n",
              "      <td>neutral</td>\n",
              "      <td>not stressed</td>\n",
              "      <td>1</td>\n",
              "    </tr>\n",
              "    <tr>\n",
              "      <th>11874</th>\n",
              "      <td>Welcome to Piazza!</td>\n",
              "      <td>Welcome to Piazza!Piazza is a Q&amp;A platform des...</td>\n",
              "      <td>post</td>\n",
              "      <td>Piazza Team</td>\n",
              "      <td>2016-09-01T01:38:40.000Z</td>\n",
              "      <td>@1</td>\n",
              "      <td>287</td>\n",
              "      <td>NaN</td>\n",
              "      <td>neutral</td>\n",
              "      <td>not stressed</td>\n",
              "      <td>1</td>\n",
              "    </tr>\n",
              "    <tr>\n",
              "      <th>11875</th>\n",
              "      <td>Tips &amp; Tricks for a successful class</td>\n",
              "      <td>Tips &amp; Tricks for a successful classReduce inb...</td>\n",
              "      <td>post</td>\n",
              "      <td>Piazza Team</td>\n",
              "      <td>2016-09-01T01:38:40.000Z</td>\n",
              "      <td>@2</td>\n",
              "      <td>17</td>\n",
              "      <td>NaN</td>\n",
              "      <td>worry</td>\n",
              "      <td>stressed</td>\n",
              "      <td>1</td>\n",
              "    </tr>\n",
              "  </tbody>\n",
              "</table>\n",
              "<p>11876 rows × 11 columns</p>\n",
              "</div>\n",
              "      <button class=\"colab-df-convert\" onclick=\"convertToInteractive('df-4bd8c5c8-11d5-41d4-9001-1a037c690011')\"\n",
              "              title=\"Convert this dataframe to an interactive table.\"\n",
              "              style=\"display:none;\">\n",
              "        \n",
              "  <svg xmlns=\"http://www.w3.org/2000/svg\" height=\"24px\"viewBox=\"0 0 24 24\"\n",
              "       width=\"24px\">\n",
              "    <path d=\"M0 0h24v24H0V0z\" fill=\"none\"/>\n",
              "    <path d=\"M18.56 5.44l.94 2.06.94-2.06 2.06-.94-2.06-.94-.94-2.06-.94 2.06-2.06.94zm-11 1L8.5 8.5l.94-2.06 2.06-.94-2.06-.94L8.5 2.5l-.94 2.06-2.06.94zm10 10l.94 2.06.94-2.06 2.06-.94-2.06-.94-.94-2.06-.94 2.06-2.06.94z\"/><path d=\"M17.41 7.96l-1.37-1.37c-.4-.4-.92-.59-1.43-.59-.52 0-1.04.2-1.43.59L10.3 9.45l-7.72 7.72c-.78.78-.78 2.05 0 2.83L4 21.41c.39.39.9.59 1.41.59.51 0 1.02-.2 1.41-.59l7.78-7.78 2.81-2.81c.8-.78.8-2.07 0-2.86zM5.41 20L4 18.59l7.72-7.72 1.47 1.35L5.41 20z\"/>\n",
              "  </svg>\n",
              "      </button>\n",
              "      \n",
              "  <style>\n",
              "    .colab-df-container {\n",
              "      display:flex;\n",
              "      flex-wrap:wrap;\n",
              "      gap: 12px;\n",
              "    }\n",
              "\n",
              "    .colab-df-convert {\n",
              "      background-color: #E8F0FE;\n",
              "      border: none;\n",
              "      border-radius: 50%;\n",
              "      cursor: pointer;\n",
              "      display: none;\n",
              "      fill: #1967D2;\n",
              "      height: 32px;\n",
              "      padding: 0 0 0 0;\n",
              "      width: 32px;\n",
              "    }\n",
              "\n",
              "    .colab-df-convert:hover {\n",
              "      background-color: #E2EBFA;\n",
              "      box-shadow: 0px 1px 2px rgba(60, 64, 67, 0.3), 0px 1px 3px 1px rgba(60, 64, 67, 0.15);\n",
              "      fill: #174EA6;\n",
              "    }\n",
              "\n",
              "    [theme=dark] .colab-df-convert {\n",
              "      background-color: #3B4455;\n",
              "      fill: #D2E3FC;\n",
              "    }\n",
              "\n",
              "    [theme=dark] .colab-df-convert:hover {\n",
              "      background-color: #434B5C;\n",
              "      box-shadow: 0px 1px 3px 1px rgba(0, 0, 0, 0.15);\n",
              "      filter: drop-shadow(0px 1px 2px rgba(0, 0, 0, 0.3));\n",
              "      fill: #FFFFFF;\n",
              "    }\n",
              "  </style>\n",
              "\n",
              "      <script>\n",
              "        const buttonEl =\n",
              "          document.querySelector('#df-4bd8c5c8-11d5-41d4-9001-1a037c690011 button.colab-df-convert');\n",
              "        buttonEl.style.display =\n",
              "          google.colab.kernel.accessAllowed ? 'block' : 'none';\n",
              "\n",
              "        async function convertToInteractive(key) {\n",
              "          const element = document.querySelector('#df-4bd8c5c8-11d5-41d4-9001-1a037c690011');\n",
              "          const dataTable =\n",
              "            await google.colab.kernel.invokeFunction('convertToInteractive',\n",
              "                                                     [key], {});\n",
              "          if (!dataTable) return;\n",
              "\n",
              "          const docLinkHtml = 'Like what you see? Visit the ' +\n",
              "            '<a target=\"_blank\" href=https://colab.research.google.com/notebooks/data_table.ipynb>data table notebook</a>'\n",
              "            + ' to learn more about interactive tables.';\n",
              "          element.innerHTML = '';\n",
              "          dataTable['output_type'] = 'display_data';\n",
              "          await google.colab.output.renderOutput(dataTable, element);\n",
              "          const docLink = document.createElement('div');\n",
              "          docLink.innerHTML = docLinkHtml;\n",
              "          element.appendChild(docLink);\n",
              "        }\n",
              "      </script>\n",
              "    </div>\n",
              "  </div>\n",
              "  "
            ]
          },
          "metadata": {},
          "execution_count": 60
        }
      ]
    },
    {
      "cell_type": "code",
      "source": [
        "stress_level = [test[test['week'] == i]['stress_level'].value_counts() for i in range(1, 12)]\n",
        "stress_level"
      ],
      "metadata": {
        "colab": {
          "base_uri": "https://localhost:8080/"
        },
        "id": "Opv2FD2nqAkR",
        "outputId": "265b1053-e618-495f-8da7-4c0b8a542124"
      },
      "execution_count": 74,
      "outputs": [
        {
          "output_type": "execute_result",
          "data": {
            "text/plain": [
              "[not stressed    13\n",
              " stressed        12\n",
              " Name: stress_level, dtype: int64, stressed        73\n",
              " not stressed    44\n",
              " Name: stress_level, dtype: int64, stressed        143\n",
              " not stressed     78\n",
              " Name: stress_level, dtype: int64, stressed        281\n",
              " not stressed    122\n",
              " Name: stress_level, dtype: int64, stressed        529\n",
              " not stressed    235\n",
              " Name: stress_level, dtype: int64, stressed        480\n",
              " not stressed    233\n",
              " Name: stress_level, dtype: int64, stressed        303\n",
              " not stressed    110\n",
              " Name: stress_level, dtype: int64, stressed        242\n",
              " not stressed     98\n",
              " Name: stress_level, dtype: int64, stressed        393\n",
              " not stressed    188\n",
              " Name: stress_level, dtype: int64, stressed        327\n",
              " not stressed    139\n",
              " Name: stress_level, dtype: int64, stressed        988\n",
              " not stressed    542\n",
              " Name: stress_level, dtype: int64]"
            ]
          },
          "metadata": {},
          "execution_count": 74
        }
      ]
    },
    {
      "cell_type": "code",
      "source": [
        "import numpy as np\n",
        "import matplotlib.pyplot as plt\n",
        "stressed = [i.stressed for i in stress_level]\n",
        "not_stressed = [i['not stressed'] for i in stress_level]\n",
        "week = range(len(stressed))\n",
        "l1 = plt.plot(week, stressed, label='stressed')\n",
        "l2 = plt.plot(week, not_stressed, label='not stressed')\n",
        "plt.plot(week, stressed, 'go-', week, not_stressed, 'b^-')\n",
        "plt.title('Stress Level distribution')\n",
        "plt.xlabel('week')\n",
        "plt.ylabel('number of posts')\n"
      ],
      "metadata": {
        "colab": {
          "base_uri": "https://localhost:8080/",
          "height": 313
        },
        "id": "nRTckudSrbKM",
        "outputId": "d9444633-39e9-43a2-dc59-7f7a3cdaeccf"
      },
      "execution_count": 85,
      "outputs": [
        {
          "output_type": "execute_result",
          "data": {
            "text/plain": [
              "Text(0, 0.5, 'number of posts')"
            ]
          },
          "metadata": {},
          "execution_count": 85
        },
        {
          "output_type": "display_data",
          "data": {
            "text/plain": [
              "<Figure size 432x288 with 1 Axes>"
            ],
            "image/png": "[encoded data removed]"
          },
          "metadata": {
            "needs_background": "light"
          }
        }
      ]
    },
    {
      "cell_type": "code",
      "source": [
        "PSST = [17.8165137614679, 17.0652173913043, 17.523178807947, 17.8855721393035, 18.0049504950495, 18.688679245283, 19.093137254902, 19.3589743589744, 19.2964824120603, 19.627027027027, 19.4292929292929, 19.875]\n",
        "week = range(1,13)\n",
        "plt.plot(week, PSST, 'y*-')\n",
        "plt.title('PSST distribution')\n",
        "plt.xlabel('week')\n",
        "plt.ylabel('PSST')"
      ],
      "metadata": {
        "colab": {
          "base_uri": "https://localhost:8080/",
          "height": 313
        },
        "id": "Z81eeRhwtAA2",
        "outputId": "a2f39c63-46a7-4383-ad39-efec6ab91915"
      },
      "execution_count": 107,
      "outputs": [
        {
          "output_type": "execute_result",
          "data": {
            "text/plain": [
              "Text(0, 0.5, 'PSST')"
            ]
          },
          "metadata": {},
          "execution_count": 107
        },
        {
          "output_type": "display_data",
          "data": {
            "text/plain": [
              "<Figure size 432x288 with 1 Axes>"
            ],
            "image/png": "[encoded data removed]"
          },
          "metadata": {
            "needs_background": "light"
          }
        }
      ]
    }
  ]
}